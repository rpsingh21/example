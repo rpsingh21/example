{
 "cells": [
  {
   "cell_type": "code",
   "execution_count": 1,
   "id": "5df3480f-8e7b-4d97-9597-dfd56334f806",
   "metadata": {},
   "outputs": [],
   "source": [
    "from kazoo.client import KazooClient\n",
    "\n",
    "zk = KazooClient(hosts='127.0.0.1:2181,127.0.0.1:2182,127.0.0.1:2181')\n",
    "zk.start()"
   ]
  },
  {
   "cell_type": "code",
   "execution_count": 33,
   "id": "38917845-d60f-4316-9d6e-ead744d1b78c",
   "metadata": {},
   "outputs": [],
   "source": [
    "zk.stop()"
   ]
  },
  {
   "cell_type": "code",
   "execution_count": 2,
   "id": "6b53595b-a0c7-4ba7-89b1-c1caf0deb735",
   "metadata": {},
   "outputs": [],
   "source": [
    "from kazoo.client import KazooState\n",
    "\n",
    "def my_listener(state):\n",
    "    if state == KazooState.LOST:\n",
    "        print('# Register somewhere that the session was lost')\n",
    "    elif state == KazooState.SUSPENDED:\n",
    "        print('# Handle being disconnected from Zookeeper')\n",
    "    else:\n",
    "        print('# Handle being connected/reconnected to Zookeeper')\n",
    "\n",
    "zk.add_listener(my_listener)"
   ]
  },
  {
   "cell_type": "code",
   "execution_count": 15,
   "id": "52417049-09fb-44ec-876e-f6d7fedb1f23",
   "metadata": {},
   "outputs": [
    {
     "data": {
      "text/plain": [
       "'/my/college'"
      ]
     },
     "execution_count": 15,
     "metadata": {},
     "output_type": "execute_result"
    }
   ],
   "source": [
    "# Ensure a path, create if necessary\n",
    "zk.ensure_path(\"/my/favorite\")\n",
    "\n",
    "# Create a node with data\n",
    "zk.create(\"/my/name\", b\"Rohit Prakash Singh\")\n",
    "zk.create(\"/my/college\", b\"FGIET\")"
   ]
  },
  {
   "cell_type": "code",
   "execution_count": 36,
   "id": "9bb9ff78-0bc4-4b36-b515-8e8ca6685134",
   "metadata": {},
   "outputs": [
    {
     "data": {
      "text/plain": [
       "(b'Rohit Prakash Singh',\n",
       " ZnodeStat(czxid=4294967309, mzxid=4294967309, ctime=1619110301328, mtime=1619110301328, version=0, cversion=0, aversion=0, ephemeralOwner=0, dataLength=19, numChildren=0, pzxid=4294967309))"
      ]
     },
     "execution_count": 36,
     "metadata": {},
     "output_type": "execute_result"
    }
   ],
   "source": [
    "zk.get(\"/my/name\")"
   ]
  },
  {
   "cell_type": "code",
   "execution_count": 21,
   "id": "fa28a595-7671-495b-a81c-367b56b1eaba",
   "metadata": {},
   "outputs": [
    {
     "data": {
      "text/plain": [
       "['name', 'college', 'favorite']"
      ]
     },
     "execution_count": 21,
     "metadata": {},
     "output_type": "execute_result"
    }
   ],
   "source": [
    "zk.get_children(\"/my\")"
   ]
  },
  {
   "cell_type": "code",
   "execution_count": 27,
   "id": "76c1d93b-f2cf-4a7b-ae3b-4b8211f34ede",
   "metadata": {},
   "outputs": [
    {
     "data": {
      "text/plain": [
       "['name', 'college', 'favorite']"
      ]
     },
     "execution_count": 27,
     "metadata": {},
     "output_type": "execute_result"
    }
   ],
   "source": [
    "ar = zk.get_children_async(\"/my\")\n",
    "ar.get()"
   ]
  },
  {
   "cell_type": "code",
   "execution_count": 31,
   "id": "931df84d-fbf3-4c2a-9b22-434779acf144",
   "metadata": {},
   "outputs": [
    {
     "data": {
      "text/plain": [
       "ZnodeStat(czxid=4294967310, mzxid=4294967312, ctime=1619110301336, mtime=1619111049615, version=2, cversion=0, aversion=0, ephemeralOwner=0, dataLength=16, numChildren=0, pzxid=4294967310)"
      ]
     },
     "execution_count": 31,
     "metadata": {},
     "output_type": "execute_result"
    }
   ],
   "source": [
    "def watcher(event):\n",
    "    print(event, type(event))\n",
    "\n",
    "zk.get_children('/my', watch=watcher)\n",
    "zk.set(\"/my/college\", b'FGIET RAE BARELI')"
   ]
  },
  {
   "cell_type": "code",
   "execution_count": 32,
   "id": "1ee10838-87e9-46c2-9a78-d48d2c534eb8",
   "metadata": {},
   "outputs": [
    {
     "data": {
      "text/plain": [
       "ZnodeStat(czxid=4294967310, mzxid=4294967313, ctime=1619110301336, mtime=1619111052421, version=3, cversion=0, aversion=0, ephemeralOwner=0, dataLength=16, numChildren=0, pzxid=4294967310)"
      ]
     },
     "execution_count": 32,
     "metadata": {},
     "output_type": "execute_result"
    }
   ],
   "source": [
    "zk.set(\"/my/college\", b'FGIET RAE BARELI')"
   ]
  },
  {
   "cell_type": "code",
   "execution_count": 38,
   "id": "9c798d26-179b-4bd7-973f-5be3bb7878a7",
   "metadata": {},
   "outputs": [
    {
     "data": {
      "text/plain": [
       "ZnodeStat(czxid=4294967310, mzxid=4294967349, ctime=1619110301336, mtime=1619112386457, version=17, cversion=0, aversion=0, ephemeralOwner=0, dataLength=20, numChildren=0, pzxid=4294967310)"
      ]
     },
     "execution_count": 38,
     "metadata": {},
     "output_type": "execute_result"
    }
   ],
   "source": [
    "zk.set(\"/my/college\", b'FGIET RAE BARELI8171')"
   ]
  },
  {
   "cell_type": "code",
   "execution_count": 3,
   "id": "956fb8c4-c753-46bb-a6aa-9e1fef1b4e23",
   "metadata": {},
   "outputs": [
    {
     "name": "stdout",
     "output_type": "stream",
     "text": [
      "# Register somewhere that the session was lost\n"
     ]
    }
   ],
   "source": [
    "zk.stop()"
   ]
  },
  {
   "cell_type": "code",
   "execution_count": null,
   "id": "7cc4a26f-d181-487b-ae07-d41b90e92ecd",
   "metadata": {},
   "outputs": [],
   "source": []
  }
 ],
 "metadata": {
  "kernelspec": {
   "display_name": "Python 3",
   "language": "python",
   "name": "python3"
  },
  "language_info": {
   "codemirror_mode": {
    "name": "ipython",
    "version": 3
   },
   "file_extension": ".py",
   "mimetype": "text/x-python",
   "name": "python",
   "nbconvert_exporter": "python",
   "pygments_lexer": "ipython3",
   "version": "3.8.5"
  }
 },
 "nbformat": 4,
 "nbformat_minor": 5
}
