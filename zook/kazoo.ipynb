{
 "cells": [
  {
   "cell_type": "code",
   "execution_count": 1,
   "id": "632d8b11-e7c9-4bf7-97aa-f1d964c37d01",
   "metadata": {},
   "outputs": [],
   "source": [
    "from kazoo.client import KazooClient\n",
    "import json\n",
    "\n",
    "zk = KazooClient(hosts='127.0.0.1:2181,127.0.0.1:2182,127.0.0.1:2181')\n",
    "zk.start()"
   ]
  },
  {
   "cell_type": "code",
   "execution_count": 2,
   "id": "e651e9b8-c436-4ed4-b085-9efb3894cb71",
   "metadata": {},
   "outputs": [
    {
     "data": {
      "text/plain": [
       "['cluster',\n",
       " 'controller_epoch',\n",
       " 'controller',\n",
       " 'brokers',\n",
       " 'zookeeper',\n",
       " 'feature',\n",
       " 'admin',\n",
       " 'isr_change_notification',\n",
       " 'consumers',\n",
       " 'log_dir_event_notification',\n",
       " 'latest_producer_id_block',\n",
       " 'config']"
      ]
     },
     "execution_count": 2,
     "metadata": {},
     "output_type": "execute_result"
    }
   ],
   "source": [
    "zk.get_children('/')"
   ]
  },
  {
   "cell_type": "code",
   "execution_count": 3,
   "id": "a7d24cef-1c76-4018-b0a1-8b04732c3b66",
   "metadata": {},
   "outputs": [
    {
     "data": {
      "text/plain": [
       "(b'8',\n",
       " ZnodeStat(czxid=8589934642, mzxid=25769803825, ctime=1619199893298, mtime=1619236256226, version=8, cversion=0, aversion=0, ephemeralOwner=0, dataLength=1, numChildren=0, pzxid=8589934642))"
      ]
     },
     "execution_count": 3,
     "metadata": {},
     "output_type": "execute_result"
    }
   ],
   "source": [
    "zk.get('controller_epoch')"
   ]
  },
  {
   "cell_type": "code",
   "execution_count": 5,
   "id": "630d1085-a08f-4dc9-87cb-8c46a73dc22d",
   "metadata": {},
   "outputs": [
    {
     "name": "stdout",
     "output_type": "stream",
     "text": [
      "b'3'\n",
      "b'{\"version\":1,\"brokerid\":1003,\"timestamp\":\"1619199967701\"}'\n",
      "b'{\"features\":{},\"status\":1,\"version\":1}'\n",
      "None\n",
      "None\n",
      "None\n",
      "b'{\"version\":1,\"broker\":1002,\"block_start\":\"5000\",\"block_end\":\"5999\"}'\n",
      "b'{\"version\":\"1\",\"id\":\"bePV_gcPRkGDyVgNi9tvng\"}'\n",
      "None\n",
      "b''\n",
      "b'server.1=0.0.0.0:2888:3888:participant;0.0.0.0:2181\\nserver.2=zoo2:2888:3888:participant;0.0.0.0:2181\\nserver.3=zoo3:2888:3888:participant;0.0.0.0:2181\\nversion=0'\n",
      "b''\n",
      "None\n",
      "None\n",
      "None\n",
      "None\n",
      "None\n",
      "None\n",
      "None\n",
      "b'{\"listener_security_protocol_map\":{\"PLAINTEXT\":\"PLAINTEXT\"},\"endpoints\":[\"PLAINTEXT://4551fd420de8:9092\"],\"jmx_port\":-1,\"features\":{},\"host\":\"4551fd420de8\",\"timestamp\":\"1619199967272\",\"port\":9092,\"version\":5}'\n",
      "b'{\"listener_security_protocol_map\":{\"PLAINTEXT\":\"PLAINTEXT\"},\"endpoints\":[\"PLAINTEXT://ea382464302c:9092\"],\"jmx_port\":-1,\"features\":{},\"host\":\"ea382464302c\",\"timestamp\":\"1619199967642\",\"port\":9092,\"version\":5}'\n",
      "b'{\"listener_security_protocol_map\":{\"PLAINTEXT\":\"PLAINTEXT\"},\"endpoints\":[\"PLAINTEXT://99577eb79294:9092\"],\"jmx_port\":-1,\"features\":{},\"host\":\"99577eb79294\",\"timestamp\":\"1619199967377\",\"port\":9092,\"version\":5}'\n",
      "{\n",
      "    \"\": {},\n",
      "    \"controller_epoch\": \"3\",\n",
      "    \"controller\": \"{\\\"version\\\":1,\\\"brokerid\\\":1003,\\\"timestamp\\\":\\\"1619199967701\\\"}\",\n",
      "    \"feature\": \"{\\\"features\\\":{},\\\"status\\\":1,\\\"version\\\":1}\",\n",
      "    \"isr_change_notification\": \"\",\n",
      "    \"consumers\": \"\",\n",
      "    \"log_dir_event_notification\": \"\",\n",
      "    \"latest_producer_id_block\": \"{\\\"version\\\":1,\\\"broker\\\":1002,\\\"block_start\\\":\\\"5000\\\",\\\"block_end\\\":\\\"5999\\\"}\",\n",
      "    \"cluster\": \"{\\\"version\\\":\\\"1\\\",\\\"id\\\":\\\"bePV_gcPRkGDyVgNi9tvng\\\"}\",\n",
      "    \"id\": \"{\\\"version\\\":\\\"1\\\",\\\"id\\\":\\\"bePV_gcPRkGDyVgNi9tvng\\\"}\",\n",
      "    \"brokers\": \"\",\n",
      "    \"topics\": \"\",\n",
      "    \"seqid\": \"\",\n",
      "    \"zookeeper\": \"server.1=0.0.0.0:2888:3888:participant;0.0.0.0:2181\\nserver.2=zoo2:2888:3888:participant;0.0.0.0:2181\\nserver.3=zoo3:2888:3888:participant;0.0.0.0:2181\\nversion=0\",\n",
      "    \"config\": \"server.1=0.0.0.0:2888:3888:participant;0.0.0.0:2181\\nserver.2=zoo2:2888:3888:participant;0.0.0.0:2181\\nserver.3=zoo3:2888:3888:participant;0.0.0.0:2181\\nversion=0\",\n",
      "    \"quota\": \"\",\n",
      "    \"admin\": \"\",\n",
      "    \"delete_topics\": \"\",\n",
      "    \"changes\": \"\",\n",
      "    \"clients\": \"\",\n",
      "    \"ips\": \"\",\n",
      "    \"users\": \"\",\n",
      "    \"ids\": \"{\\\"listener_security_protocol_map\\\":{\\\"PLAINTEXT\\\":\\\"PLAINTEXT\\\"},\\\"endpoints\\\":[\\\"PLAINTEXT://4551fd420de8:9092\\\"],\\\"jmx_port\\\":-1,\\\"features\\\":{},\\\"host\\\":\\\"4551fd420de8\\\",\\\"timestamp\\\":\\\"1619199967272\\\",\\\"port\\\":9092,\\\"version\\\":5}\",\n",
      "    \"1003\": \"{\\\"listener_security_protocol_map\\\":{\\\"PLAINTEXT\\\":\\\"PLAINTEXT\\\"},\\\"endpoints\\\":[\\\"PLAINTEXT://4551fd420de8:9092\\\"],\\\"jmx_port\\\":-1,\\\"features\\\":{},\\\"host\\\":\\\"4551fd420de8\\\",\\\"timestamp\\\":\\\"1619199967272\\\",\\\"port\\\":9092,\\\"version\\\":5}\",\n",
      "    \"1002\": \"{\\\"listener_security_protocol_map\\\":{\\\"PLAINTEXT\\\":\\\"PLAINTEXT\\\"},\\\"endpoints\\\":[\\\"PLAINTEXT://ea382464302c:9092\\\"],\\\"jmx_port\\\":-1,\\\"features\\\":{},\\\"host\\\":\\\"ea382464302c\\\",\\\"timestamp\\\":\\\"1619199967642\\\",\\\"port\\\":9092,\\\"version\\\":5}\",\n",
      "    \"1001\": \"{\\\"listener_security_protocol_map\\\":{\\\"PLAINTEXT\\\":\\\"PLAINTEXT\\\"},\\\"endpoints\\\":[\\\"PLAINTEXT://99577eb79294:9092\\\"],\\\"jmx_port\\\":-1,\\\"features\\\":{},\\\"host\\\":\\\"99577eb79294\\\",\\\"timestamp\\\":\\\"1619199967377\\\",\\\"port\\\":9092,\\\"version\\\":5}\"\n",
      "}\n"
     ]
    }
   ],
   "source": [
    "paths = ['/']\n",
    "tree = {'':{}}\n",
    "\n",
    "while paths:\n",
    "    key = paths.pop(0)\n",
    "    arr = zk.get_children(key)\n",
    "    if arr:\n",
    "        paths += list(map(lambda x: f'{key}/{x}', arr))\n",
    "    else:\n",
    "        value = zk.get(key)[0]\n",
    "        root = tree\n",
    "        print(value)\n",
    "        for i in key.split('/'):\n",
    "            root[i] = root.get(i, value.decode('utf-8') if value else '')\n",
    "\n",
    "print(json.dumps(tree, indent=4))"
   ]
  },
  {
   "cell_type": "code",
   "execution_count": 58,
   "id": "8ce8640d-f5e5-457d-85e5-0d24e619a8c4",
   "metadata": {},
   "outputs": [
    {
     "data": {
      "text/plain": [
       "'{\"version\":1,\"brokerid\":1001,\"timestamp\":\"1619149300062\"}'"
      ]
     },
     "execution_count": 58,
     "metadata": {},
     "output_type": "execute_result"
    }
   ],
   "source": [
    "tree['controller'].decode('utf-8')"
   ]
  },
  {
   "cell_type": "code",
   "execution_count": 4,
   "id": "489537f2-a67c-49bd-97f4-5dbecb025fb7",
   "metadata": {},
   "outputs": [
    {
     "data": {
      "text/plain": [
       "{'': {},\n",
       " 'controller_epoch': '3',\n",
       " 'controller': '{\"version\":1,\"brokerid\":1003,\"timestamp\":\"1619199967701\"}',\n",
       " 'feature': '{\"features\":{},\"status\":1,\"version\":1}',\n",
       " 'isr_change_notification': '',\n",
       " 'consumers': '',\n",
       " 'log_dir_event_notification': '',\n",
       " 'latest_producer_id_block': '{\"version\":1,\"broker\":1002,\"block_start\":\"5000\",\"block_end\":\"5999\"}',\n",
       " 'cluster': '{\"version\":\"1\",\"id\":\"bePV_gcPRkGDyVgNi9tvng\"}',\n",
       " 'id': '{\"version\":\"1\",\"id\":\"bePV_gcPRkGDyVgNi9tvng\"}',\n",
       " 'brokers': '',\n",
       " 'topics': '',\n",
       " 'seqid': '',\n",
       " 'zookeeper': 'server.1=0.0.0.0:2888:3888:participant;0.0.0.0:2181\\nserver.2=zoo2:2888:3888:participant;0.0.0.0:2181\\nserver.3=zoo3:2888:3888:participant;0.0.0.0:2181\\nversion=0',\n",
       " 'config': 'server.1=0.0.0.0:2888:3888:participant;0.0.0.0:2181\\nserver.2=zoo2:2888:3888:participant;0.0.0.0:2181\\nserver.3=zoo3:2888:3888:participant;0.0.0.0:2181\\nversion=0',\n",
       " 'quota': '',\n",
       " 'admin': '',\n",
       " 'delete_topics': '',\n",
       " 'changes': '',\n",
       " 'clients': '',\n",
       " 'ips': '',\n",
       " 'users': '',\n",
       " 'ids': '{\"listener_security_protocol_map\":{\"PLAINTEXT\":\"PLAINTEXT\"},\"endpoints\":[\"PLAINTEXT://4551fd420de8:9092\"],\"jmx_port\":-1,\"features\":{},\"host\":\"4551fd420de8\",\"timestamp\":\"1619199967272\",\"port\":9092,\"version\":5}',\n",
       " '1003': '{\"listener_security_protocol_map\":{\"PLAINTEXT\":\"PLAINTEXT\"},\"endpoints\":[\"PLAINTEXT://4551fd420de8:9092\"],\"jmx_port\":-1,\"features\":{},\"host\":\"4551fd420de8\",\"timestamp\":\"1619199967272\",\"port\":9092,\"version\":5}',\n",
       " '1002': '{\"listener_security_protocol_map\":{\"PLAINTEXT\":\"PLAINTEXT\"},\"endpoints\":[\"PLAINTEXT://ea382464302c:9092\"],\"jmx_port\":-1,\"features\":{},\"host\":\"ea382464302c\",\"timestamp\":\"1619199967642\",\"port\":9092,\"version\":5}',\n",
       " '1001': '{\"listener_security_protocol_map\":{\"PLAINTEXT\":\"PLAINTEXT\"},\"endpoints\":[\"PLAINTEXT://99577eb79294:9092\"],\"jmx_port\":-1,\"features\":{},\"host\":\"99577eb79294\",\"timestamp\":\"1619199967377\",\"port\":9092,\"version\":5}'}"
      ]
     },
     "execution_count": 4,
     "metadata": {},
     "output_type": "execute_result"
    }
   ],
   "source": [
    "tree"
   ]
  },
  {
   "cell_type": "code",
   "execution_count": null,
   "id": "6f21baa4-1140-4890-aadd-6155d25f811e",
   "metadata": {},
   "outputs": [],
   "source": []
  }
 ],
 "metadata": {
  "kernelspec": {
   "display_name": "Python 3",
   "language": "python",
   "name": "python3"
  },
  "language_info": {
   "codemirror_mode": {
    "name": "ipython",
    "version": 3
   },
   "file_extension": ".py",
   "mimetype": "text/x-python",
   "name": "python",
   "nbconvert_exporter": "python",
   "pygments_lexer": "ipython3",
   "version": "3.8.5"
  }
 },
 "nbformat": 4,
 "nbformat_minor": 5
}
